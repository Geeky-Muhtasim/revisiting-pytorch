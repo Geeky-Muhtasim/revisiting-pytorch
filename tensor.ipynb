{
 "cells": [
  {
   "cell_type": "markdown",
   "metadata": {},
   "source": [
    "# Tensors\n",
    "Tensors are data structures used to store higher dimensional array designed for mathematical and computational efficiency.\n",
    "\n",
    "Dimension -> In how many direction data is spanned.\n",
    "\n",
    "1. Scalars: 0-dimensional tensors (Represents a single value, often used for simple matrics or constants)\n",
    "2. Vectors: 1-dimensional tensors (Represents a sequence or a collection of values, e.g. Feature Vector-each word in a sentence maybe represented as a 1D vector using embeddings)\n",
    "3. Matrics: 2D tensions (Represents tabular or grid like data)\n",
    "4. 3D Tensors: Adds a third dimension, often used for stacking data e.g. RGB images(256X256 - shape: [256,256,3])\n",
    "5. 4D Tensors: Batches of RGB images (Adds the batch size as an additional dimension to 3D data e.g dataset of colored image: (batch size X width X height X channels))\n",
    "6. 5D Tensors: Video Data (Adds a time dimension for data that changes over time e.g, video frames)"
   ]
  },
  {
   "cell_type": "markdown",
   "metadata": {},
   "source": [
    "## Why are Tensors Useful?\n",
    "1. Mathematical Operations - enables efficient mathematical computations like addition, multiplication, dot product, etc.\n",
    "2. Real world data representation \n",
    "3. Efficient computations\n",
    "\n",
    "## Why are Tensors used in Deep Learning?\n",
    "1. Storing data\n",
    "2. Weights and Biases\n",
    "3. Matrix Operations"
   ]
  }
 ],
 "metadata": {
  "kernelspec": {
   "display_name": "dl-env",
   "language": "python",
   "name": "python3"
  },
  "language_info": {
   "name": "python",
   "version": "3.12.8"
  }
 },
 "nbformat": 4,
 "nbformat_minor": 2
}
