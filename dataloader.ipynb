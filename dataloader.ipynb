{
 "cells": [
  {
   "cell_type": "markdown",
   "metadata": {},
   "source": [
    "# Dataset and dataset loader"
   ]
  },
  {
   "cell_type": "markdown",
   "metadata": {},
   "source": [
    "Problems:\n",
    "1. Memory Inefficient\n",
    "2. Better convergence\n",
    "3. Loading entire data at a time is not an efficient approach"
   ]
  },
  {
   "cell_type": "code",
   "execution_count": 1,
   "metadata": {},
   "outputs": [],
   "source": [
    "# Smiple Soltion\n",
    "\n",
    "# import torch\n",
    "# import torch.nn as nn\n",
    "\n",
    "# batch_size = 32\n",
    "# epochs = 25\n",
    "# n_samples = len(x_tensors)\n",
    "\n",
    "# for epoch in range(epochs):\n",
    "#     for i in range(0, n_samples, batch_size):\n",
    "#         x = x_tensors[i:i+batch_size]\n",
    "#         y = y_tensors[i:i+batch_size]\n",
    "\n",
    "#         # Forward pass\n",
    "#         y_pred = model(x)\n",
    "\n",
    "#         # Compute Loss\n",
    "#         loss = criterion(y_pred, y)\n",
    "\n",
    "#         # Zero gradients, backward pass, update weights\n",
    "#         optimizer.zero_grad()\n",
    "#         loss.backward()\n",
    "#         optimizer.step()\n",
    "\n",
    "#     print(f'Epoch: {epoch}, Loss: {loss.item()}')"
   ]
  },
  {
   "cell_type": "markdown",
   "metadata": {},
   "source": [
    "Problem with the above approach:\n",
    "1. No standar interface for data\n",
    "2. No easy way to apply transformations\n",
    "3. Shuffling and sampling\n",
    "4. Batch management and Parallelization"
   ]
  }
 ],
 "metadata": {
  "kernelspec": {
   "display_name": "dl-env",
   "language": "python",
   "name": "python3"
  },
  "language_info": {
   "codemirror_mode": {
    "name": "ipython",
    "version": 3
   },
   "file_extension": ".py",
   "mimetype": "text/x-python",
   "name": "python",
   "nbconvert_exporter": "python",
   "pygments_lexer": "ipython3",
   "version": "3.12.8"
  }
 },
 "nbformat": 4,
 "nbformat_minor": 2
}
