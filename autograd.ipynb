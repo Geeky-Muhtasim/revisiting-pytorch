{
 "cells": [
  {
   "cell_type": "markdown",
   "metadata": {},
   "source": [
    "## Why Autograd?\n",
    "\n",
    "<img src=\"images\\why_autograd.jpeg\" height=\"400\">\n"
   ]
  }
 ],
 "metadata": {
  "language_info": {
   "name": "python"
  }
 },
 "nbformat": 4,
 "nbformat_minor": 2
}
